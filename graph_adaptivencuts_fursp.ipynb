{
 "cells": [
  {
   "cell_type": "markdown",
   "metadata": {},
   "source": [
    "Graph Constrained Unmixing w/ Normalized Cuts"
   ]
  },
  {
   "cell_type": "code",
   "execution_count": null,
   "metadata": {},
   "outputs": [],
   "source": [
    "# Imports\n",
    "import os\n",
    "import numpy as np\n",
    "import matplotlib.pyplot as plt\n",
    "import h5py\n",
    "from SuperpixelCutsPy import *\n",
    "# Configs for Notebooks\n",
    "plt.rcParams[\"figure.figsize\"] = [9,7]\n",
    "np.set_printoptions(suppress=True)"
   ]
  },
  {
   "cell_type": "code",
   "execution_count": null,
   "metadata": {},
   "outputs": [],
   "source": [
    "dataset_name = 'fields_data_2022'\n",
    "h5_import = h5py.File(\"data/bhsi_2022.h5\",'r+').get('Cube/resultarray/inputdata')\n",
    "hyperspectral_cube = np.array(h5_import)\n",
    "hyperspectral_cube = np.moveaxis(np.array(hyperspectral_cube), [0], [2])\n",
    "hyperspectral_cube = np.moveaxis(np.array(hyperspectral_cube), [0], [1])\n",
    "hyperspectral_cube = hyperspectral_cube[100:205, 5:205, :].copy()\n",
    "nx,ny,nb = hyperspectral_cube.shape\n",
    "del h5_import"
   ]
  },
  {
   "cell_type": "code",
   "execution_count": null,
   "metadata": {},
   "outputs": [],
   "source": [
    "preprocessing_pipeline = Preprocesser.Preprocesser(data = hyperspectral_cube)\n",
    "#preprocessing_pipeline.gaussian_blur(blur_param = 0)\n",
    "preprocessing_pipeline.singular_value_decomposition(n_svd = 5)\n",
    "preprocessing_pipeline.layer_normalization()\n",
    "hyperspectral_cube = preprocessing_pipeline.data.copy()\n",
    "original_hyperspectral_cube = preprocessing_pipeline.original_data.copy()"
   ]
  },
  {
   "cell_type": "code",
   "execution_count": null,
   "metadata": {},
   "outputs": [],
   "source": [
    "n_superpixels = 2000 #2500\n",
    "slic_m_param = 3    #2\n",
    "assignments, centers = superpixel.generate_SLIC_assignments(data = hyperspectral_cube,\n",
    "                                                            n_superpixels = n_superpixels,\n",
    "                                                            slic_m_param = slic_m_param)\n",
    "superpixeled_cube, superpixel_library = superpixel.generate_SLIC_superpixels(data = hyperspectral_cube,\n",
    "                                                                             assignments = assignments)\n",
    "n_superpixels = len(np.unique(assignments))"
   ]
  },
  {
   "cell_type": "code",
   "execution_count": null,
   "metadata": {},
   "outputs": [],
   "source": [
    "fig, ax = plt.subplots(1,2, dpi=100);\n",
    "layer_preview = 20\n",
    "ax[0].imshow(hyperspectral_cube[:,:,layer_preview])\n",
    "ax[1].imshow(superpixeled_cube[:,:,layer_preview])\n",
    "ax[1].scatter(centers[:,1], centers[:,0], c='white', s=0.1);\n",
    "ax[0].set_title(f'Original Image Layer {layer_preview}', fontsize = 8);\n",
    "ax[1].set_title(f'Superpixeled Image n={len(np.unique(assignments))}', fontsize = 8);"
   ]
  },
  {
   "cell_type": "code",
   "execution_count": null,
   "metadata": {},
   "outputs": [],
   "source": [
    "sigma_param = 0.0075 # 0.1 -> 0.001           #0.01\n",
    "spatial_limit = 60# 15 -> 25 in steps of 5 #15\n",
    "spatial_beta_param = 0.025 #0.05\n",
    "spatial_dmax_param = 10\n",
    "ne = 5#number of endmembers\n",
    "\n",
    "labelled_img, normalized_signatures, int_results = normalized_cuts.graph_regularized_ncuts_admm(data=hyperspectral_cube,\n",
    "                                                                                                superpixel_library=superpixel_library,\n",
    "                                                                                                superpixel_centers=centers,\n",
    "                                                                                                superpixel_assignments=assignments,\n",
    "                                                                                                n_endmembers = ne,\n",
    "                                                                                                spectral_sigma2_param= sigma_param,\n",
    "                                                                                                spatial_kappa_param=spatial_limit,\n",
    "                                                                                                spatial_beta_param= spatial_beta_param,\n",
    "                                                                                                spatial_dmax_param = spatial_dmax_param,\n",
    "                                                                                                n_unmixing_iters = 200,\n",
    "                                                                                                spectral_metric='SAM')\n",
    "\n",
    "original_library  = segmentation_evaluation.calc_mean_label_signatures(utility.cube_to_matrix(original_hyperspectral_cube),\n",
    "                                                                        labelled_img.reshape(-1))\n"
   ]
  },
  {
   "cell_type": "code",
   "execution_count": null,
   "metadata": {},
   "outputs": [],
   "source": [
    "fig, ax = plt.subplots(1,3, dpi=150);\n",
    "ax[0].imshow(hyperspectral_cube[:,:,layer_preview]);\n",
    "ax[1].imshow(int_results['initial_labels']);\n",
    "ax[2].imshow(labelled_img);\n",
    "\n",
    "ax[0].set_title(\"Original Image\");\n",
    "ax[1].set_title(\"Initial Segmentation\");\n",
    "ax[2].set_title(\"Final Segmentation\");"
   ]
  },
  {
   "cell_type": "code",
   "execution_count": null,
   "metadata": {},
   "outputs": [],
   "source": [
    "num_layers = min(int_results['abundance_results'].shape[2], 6)\n",
    "\n",
    "fig, axes = plt.subplots(1, num_layers, figsize=(6*num_layers, 6))\n",
    "\n",
    "for i in range(num_layers):\n",
    "    axes[i].imshow(int_results['abundance_results'][:, :, i], cmap='viridis')\n",
    "    axes[i].set_title(f'Initial Endmember {i+1}')"
   ]
  },
  {
   "cell_type": "code",
   "execution_count": null,
   "metadata": {},
   "outputs": [],
   "source": [
    "#dict_keys(['loss', 'primal_residual', 'dual_residual', 'mean_abund_value', 'n_iters'])\n",
    "view = 'mean_abund_value'\n",
    "plt.axhline(y=1, color='r', linestyle='--');\n",
    "plt.plot(int_results['unmixing_history'][view]);\n",
    "plt.title(view);"
   ]
  },
  {
   "cell_type": "code",
   "execution_count": null,
   "metadata": {},
   "outputs": [],
   "source": [
    "dataset_name = 'fusrp_cut'\n",
    "savefigs = True\n",
    "if savefigs:\n",
    "    print(\"Saving Original Image\")\n",
    "    utility.save_hcube(hyperspectral_cube = original_hyperspectral_cube,\n",
    "                       n_layers = 40,\n",
    "                       output_img=f'display_imgs/{dataset_name}_original.png');\n",
    "\n",
    "    print(\"Saving Preprocessed Results\")\n",
    "    utility.save_hcube(hyperspectral_cube = hyperspectral_cube,\n",
    "                   n_layers = 40,\n",
    "                   output_img=f'display_imgs/{dataset_name}_preprocessed.png');\n",
    "\n",
    "    print(\"Saving Superpixel Results\")\n",
    "    utility.save_hcube(hyperspectral_cube = superpixeled_cube,\n",
    "                   n_layers = 40,\n",
    "                   output_img=f'display_imgs/{dataset_name}_superpixeled.png');\n",
    "\n",
    "    print(\"Saving Abundance Results\")\n",
    "    utility.save_hcube(hyperspectral_cube = int_results['abundance_results'],\n",
    "                   n_layers = ne,\n",
    "                   output_img=f'display_imgs/{dataset_name}_abundances.png');\n",
    "\n",
    "    print(\"Saving Abundance + Superpixel Results\")\n",
    "    step_size = 4\n",
    "    utility.save_hcube(hyperspectral_cube = np.concatenate([superpixeled_cube[:,:,np.arange(0, nb, step_size)],\n",
    "                                                            int_results['abundance_results']], axis = 2),\n",
    "                      n_layers = np.arange(0, nb, step_size).shape[0] + ne,\n",
    "                      output_img=f'display_imgs/{dataset_name}_superpixel_plus_abudance.png');\n",
    "\n",
    "    print(\"Saving Segmentation Results\")\n",
    "    utility.save_img(image = int_results['initial_labels'],\n",
    "                     output_img= f'display_imgs/{dataset_name}_initial_segmentation.png')\n",
    "\n",
    "    utility.save_img(image = labelled_img,\n",
    "                     output_img= f'display_imgs/{dataset_name}_final_segmentation.png')"
   ]
  },
  {
   "cell_type": "code",
   "execution_count": null,
   "metadata": {},
   "outputs": [],
   "source": []
  }
 ],
 "metadata": {
  "kernelspec": {
   "display_name": "Python 3",
   "language": "python",
   "name": "python3"
  },
  "language_info": {
   "codemirror_mode": {
    "name": "ipython",
    "version": 3
   },
   "file_extension": ".py",
   "mimetype": "text/x-python",
   "name": "python",
   "nbconvert_exporter": "python",
   "pygments_lexer": "ipython3",
   "version": "3.11.2"
  },
  "orig_nbformat": 4
 },
 "nbformat": 4,
 "nbformat_minor": 2
}
